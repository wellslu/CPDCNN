{
 "cells": [
  {
   "cell_type": "code",
   "execution_count": 52,
   "metadata": {},
   "outputs": [],
   "source": [
    "import torch\n",
    "import numpy as np\n",
    "\n",
    "device = torch.device('cuda' if torch.cuda.is_available() else 'cpu')"
   ]
  },
  {
   "cell_type": "code",
   "execution_count": 24,
   "metadata": {},
   "outputs": [],
   "source": [
    "a = np.array([i for i in range(3*7*8)])\n",
    "a = a.reshape((3,7,8))"
   ]
  },
  {
   "cell_type": "code",
   "execution_count": 53,
   "metadata": {},
   "outputs": [],
   "source": [
    "b = torch.tensor(a).to(device)"
   ]
  },
  {
   "cell_type": "code",
   "execution_count": 66,
   "metadata": {},
   "outputs": [],
   "source": [
    "c = b.view(-1)"
   ]
  },
  {
   "cell_type": "code",
   "execution_count": 76,
   "metadata": {},
   "outputs": [],
   "source": [
    "d = b.permute((2, 1, 0))\n",
    "d = d.contiguous()"
   ]
  },
  {
   "cell_type": "code",
   "execution_count": 69,
   "metadata": {},
   "outputs": [],
   "source": [
    "b"
   ]
  },
  {
   "cell_type": "code",
   "execution_count": 67,
   "metadata": {},
   "outputs": [],
   "source": [
    "c"
   ]
  },
  {
   "cell_type": "code",
   "execution_count": 58,
   "metadata": {},
   "outputs": [
    {
     "data": {
      "text/plain": [
       "139762092474368"
      ]
     },
     "execution_count": 58,
     "metadata": {},
     "output_type": "execute_result"
    }
   ],
   "source": [
    "c.data_ptr()"
   ]
  },
  {
   "cell_type": "code",
   "execution_count": 62,
   "metadata": {},
   "outputs": [],
   "source": [
    "for k in range(len(b)):\n",
    "    for j in range(len(b[0])):\n",
    "        for i in range(len(b[0][0])):\n",
    "            print(b[k][j][i].data_ptr())"
   ]
  },
  {
   "cell_type": "code",
   "execution_count": 77,
   "metadata": {},
   "outputs": [
    {
     "name": "stdout",
     "output_type": "stream",
     "text": [],
   "source": [
    "for k in range(len(d)):\n",
    "    for j in range(len(d[0])):\n",
    "        for i in range(len(d[0][0])):\n",
    "            print(d[k][j][i].data_ptr())"
   ]
  },
  {
   "cell_type": "code",
   "execution_count": 68,
   "metadata": {},
   "outputs": [
    {
     "name": "stdout",
     "output_type": "stream",
     "text": [],
   "source": [
    "for i in range(20):\n",
    "    print(c[i].data_ptr())"
   ]
  },
  {
   "cell_type": "code",
   "execution_count": null,
   "metadata": {},
   "outputs": [],
   "source": []
  },
  {
   "cell_type": "code",
   "execution_count": null,
   "metadata": {},
   "outputs": [],
   "source": []
  },
  {
   "cell_type": "code",
   "execution_count": null,
   "metadata": {},
   "outputs": [],
   "source": []
  },
  {
   "cell_type": "code",
   "execution_count": 3,
   "metadata": {},
   "outputs": [
    {
     "name": "stdout",
     "output_type": "stream",
     "text": [
      "Tue Dec  3 13:54:51 2024       \n",
      "+-----------------------------------------------------------------------------------------+\n",
      "| NVIDIA-SMI 550.120                Driver Version: 550.120        CUDA Version: 12.4     |\n",
      "|-----------------------------------------+------------------------+----------------------+\n",
      "| GPU  Name                 Persistence-M | Bus-Id          Disp.A | Volatile Uncorr. ECC |\n",
      "| Fan  Temp   Perf          Pwr:Usage/Cap |           Memory-Usage | GPU-Util  Compute M. |\n",
      "|                                         |                        |               MIG M. |\n",
      "|=========================================+========================+======================|\n",
      "|   0  NVIDIA GeForce RTX 3080        Off |   00000000:01:00.0 Off |                  N/A |\n",
      "|  0%   42C    P2            100W /  380W |     697MiB /  10240MiB |     20%      Default |\n",
      "|                                         |                        |                  N/A |\n",
      "+-----------------------------------------+------------------------+----------------------+\n",
      "                                                                                         \n",
      "+-----------------------------------------------------------------------------------------+\n",
      "| Processes:                                                                              |\n",
      "|  GPU   GI   CI        PID   Type   Process name                              GPU Memory |\n",
      "|        ID   ID                                                               Usage      |\n",
      "|=========================================================================================|\n",
      "|    0   N/A  N/A      1859      G   /usr/lib/xorg/Xorg                              4MiB |\n",
      "|    0   N/A  N/A   2452054      C   python                                        682MiB |\n",
      "+-----------------------------------------------------------------------------------------+\n"
     ]
    }
   ],
   "source": [
    "!nvidia-smi"
   ]
  },
  {
   "cell_type": "code",
   "execution_count": 1,
   "metadata": {},
   "outputs": [],
   "source": [
    "import matplotlib.pyplot as plt"
   ]
  },
  {
   "cell_type": "code",
   "execution_count": 2,
   "metadata": {},
   "outputs": [],
   "source": [
    "cnn = [\"cnn_cpu_2-2:23\"]\n",
    "cnnDecop = [\"cnnDecomp_cpu_2-9:20\", \"cnnDecomp_cpu_3-14:09\", \"cnnDecomp_cpu_4-15:39\", \"cnnDecomp_cpu_5-20:06\", \"cnnDecomp_cpu_6-22:59\"]"
   ]
  },
  {
   "cell_type": "code",
   "execution_count": 3,
   "metadata": {},
   "outputs": [],
   "source": [
    "cnn_accu = []\n",
    "cnn_loss = []\n",
    "cnnDecop_accu = []\n",
    "cnnDecop_loss = []\n",
    "with open(\"mlruns/0/cnn_cpu_2-2:23/metrics/test_acc\") as f:\n",
    "    cnn_accu.append(max([float(i.split()[1]) for i in f.readlines()]))\n",
    "with open(\"mlruns/0/cnn_cpu_2-2:23/metrics/test_loss\") as f:\n",
    "    cnn_loss.append(min([float(i.split()[1]) for i in f.readlines()]))\n",
    "for file in cnnDecop:\n",
    "    with open(f\"mlruns/0/{file}/metrics/test_acc\") as f:\n",
    "        cnnDecop_accu.append(max([float(i.split()[1]) for i in f.readlines()]))\n",
    "    with open(f\"mlruns/0/{file}/metrics/test_loss\") as f:\n",
    "        cnnDecop_loss.append(min([float(i.split()[1]) for i in f.readlines()]))"
   ]
  },
  {
   "cell_type": "code",
   "execution_count": 4,
   "metadata": {},
   "outputs": [],
   "source": [
    "cnn_time = [2*23+1]\n",
    "cnnDecop_time = [9*60+20, 14*60+9, 15*60+39, 20*60+6, 22*60+59]\n",
    "\n",
    "cnn_size = [90]\n",
    "cnnDecop_size = [34, 51, 68, 85, 102]\n",
    "\n",
    "# from src.models.cnn_decomp import CNN_decomp\n",
    "# from src.models.cnn import CNN\n",
    "# model = CNN(32, 3, 1, 10)\n",
    "# cnn_size = [sum(p.numel() for p in model.parameters())]\n",
    "# cnnDecop_size = []\n",
    "# for rank in range(2, 7):\n",
    "#     model = CNN_decomp(32, 3, 3, 1, rank, 10)\n",
    "#     cnnDecop_size.append(sum(p.numel() for p in model.parameters()))\n"
   ]
  },
  {
   "cell_type": "code",
   "execution_count": 5,
   "metadata": {},
   "outputs": [
    {
     "data": {
      "text/plain": [
       "CNN_decomp(\n",
       "  (decomp_layer1): DecompLayer(\n",
       "    (factors): ParameterList(\n",
       "        (0): Parameter containing: [torch.float32 of size 32x6]\n",
       "        (1): Parameter containing: [torch.float32 of size 3x6]\n",
       "        (2): Parameter containing: [torch.float32 of size 3x6]\n",
       "        (3): Parameter containing: [torch.float32 of size 1x6]\n",
       "    )\n",
       "  )\n",
       "  (decomp_layer2): DecompLayer(\n",
       "    (factors): ParameterList(\n",
       "        (0): Parameter containing: [torch.float32 of size 32x6]\n",
       "        (1): Parameter containing: [torch.float32 of size 3x6]\n",
       "        (2): Parameter containing: [torch.float32 of size 3x6]\n",
       "        (3): Parameter containing: [torch.float32 of size 32x6]\n",
       "    )\n",
       "  )\n",
       "  (classifier): Sequential(\n",
       "    (0): Linear(in_features=25088, out_features=10, bias=True)\n",
       "    (1): LogSoftmax(dim=1)\n",
       "  )\n",
       ")"
      ]
     },
     "execution_count": 5,
     "metadata": {},
     "output_type": "execute_result"
    }
   ],
   "source": [
    "model"
   ]
  },
  {
   "cell_type": "code",
   "execution_count": 5,
   "metadata": {},
   "outputs": [
    {
     "data": {
      "image/png": "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",
      "text/plain": [
       "<Figure size 864x576 with 4 Axes>"
      ]
     },
     "metadata": {
      "needs_background": "light"
     },
     "output_type": "display_data"
    }
   ],
   "source": [
    "fig, ax = plt.subplots(2, 2, figsize=(12, 8))\n",
    "ax[0][0].plot(range(2, len(cnnDecop_loss)+2), cnnDecop_loss, label=\"CNN_Decomp\")\n",
    "ax[0][0].plot(range(2, len(cnnDecop_loss)+2), cnn_loss*len(cnnDecop_loss), label=\"CNN\")\n",
    "ax[0][0].set_xlabel(\"Rank\")\n",
    "ax[0][0].set_ylabel(\"Loss\")\n",
    "ax[0][0].legend()\n",
    "ax[0][0].set_xticks(range(2, len(cnnDecop_loss) + 2))\n",
    "\n",
    "ax[0][1].plot(range(2, len(cnnDecop_accu)+2), cnnDecop_accu, label=\"CNN_Decomp\")\n",
    "ax[0][1].plot(range(2, len(cnnDecop_accu)+2), cnn_accu*len(cnnDecop_loss), label=\"CNN\")\n",
    "ax[0][1].set_xlabel(\"Rank\")\n",
    "ax[0][1].set_ylabel(\"Accuracy\")\n",
    "ax[0][1].legend()\n",
    "ax[0][1].set_xticks(range(2, len(cnnDecop_accu) + 2))\n",
    "\n",
    "ax[1][0].plot(range(2, len(cnnDecop_time)+2), cnnDecop_time, label=\"CNN_Decomp\")\n",
    "ax[1][0].plot(range(2, len(cnnDecop_time)+2), cnn_time*len(cnnDecop_loss), label=\"CNN\")\n",
    "ax[1][0].set_xlabel(\"Rank\")\n",
    "ax[1][0].set_ylabel(\"Time\")\n",
    "ax[1][0].legend()\n",
    "ax[1][0].set_xticks(range(2, len(cnnDecop_time) + 2))\n",
    "\n",
    "ax[1][1].plot(range(2, len(cnnDecop_size)+2), cnnDecop_size, label=\"CNN_Decomp\")\n",
    "ax[1][1].plot(range(2, len(cnnDecop_size)+2), cnn_size*len(cnnDecop_size), label=\"CNN\")\n",
    "ax[1][1].set_xlabel(\"Rank\")\n",
    "ax[1][1].set_ylabel(\"Size\")\n",
    "ax[1][1].legend()\n",
    "ax[1][1].set_xticks(range(2, len(cnnDecop_size) + 2))\n",
    "\n",
    "plt.show()"
   ]
  },
  {
   "cell_type": "code",
   "execution_count": null,
   "metadata": {},
   "outputs": [],
   "source": []
  }
 ],
 "metadata": {
  "kernelspec": {
   "display_name": "base",
   "language": "python",
   "name": "python3"
  },
  "language_info": {
   "codemirror_mode": {
    "name": "ipython",
    "version": 3
   },
   "file_extension": ".py",
   "mimetype": "text/x-python",
   "name": "python",
   "nbconvert_exporter": "python",
   "pygments_lexer": "ipython3",
   "version": "3.9.12"
  }
 },
 "nbformat": 4,
 "nbformat_minor": 2
}
